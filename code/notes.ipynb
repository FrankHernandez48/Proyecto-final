{
 "cells": [
  {
   "cell_type": "code",
   "execution_count": 7,
   "id": "7ed6036e",
   "metadata": {},
   "outputs": [
    {
     "name": "stdout",
     "output_type": "stream",
     "text": [
      "Requirement already satisfied: python-dotenv in d:\\python\\miniconda\\lib\\site-packages (1.1.0)\n",
      "Collecting google-api-python-client\n",
      "  Downloading google_api_python_client-2.170.0-py3-none-any.whl.metadata (6.7 kB)\n",
      "Collecting httplib2<1.0.0,>=0.19.0 (from google-api-python-client)\n",
      "  Downloading httplib2-0.22.0-py3-none-any.whl.metadata (2.6 kB)\n",
      "Collecting google-auth!=2.24.0,!=2.25.0,<3.0.0,>=1.32.0 (from google-api-python-client)\n",
      "  Downloading google_auth-2.40.2-py2.py3-none-any.whl.metadata (6.2 kB)\n",
      "Collecting google-auth-httplib2<1.0.0,>=0.2.0 (from google-api-python-client)\n",
      "  Downloading google_auth_httplib2-0.2.0-py2.py3-none-any.whl.metadata (2.2 kB)\n",
      "Collecting google-api-core!=2.0.*,!=2.1.*,!=2.2.*,!=2.3.0,<3.0.0,>=1.31.5 (from google-api-python-client)\n",
      "  Downloading google_api_core-2.24.2-py3-none-any.whl.metadata (3.0 kB)\n",
      "Collecting uritemplate<5,>=3.0.1 (from google-api-python-client)\n",
      "  Downloading uritemplate-4.1.1-py2.py3-none-any.whl.metadata (2.9 kB)\n",
      "Collecting googleapis-common-protos<2.0.0,>=1.56.2 (from google-api-core!=2.0.*,!=2.1.*,!=2.2.*,!=2.3.0,<3.0.0,>=1.31.5->google-api-python-client)\n",
      "  Downloading googleapis_common_protos-1.70.0-py3-none-any.whl.metadata (9.3 kB)\n",
      "Collecting protobuf!=3.20.0,!=3.20.1,!=4.21.0,!=4.21.1,!=4.21.2,!=4.21.3,!=4.21.4,!=4.21.5,<7.0.0,>=3.19.5 (from google-api-core!=2.0.*,!=2.1.*,!=2.2.*,!=2.3.0,<3.0.0,>=1.31.5->google-api-python-client)\n",
      "  Downloading protobuf-6.31.1-cp310-abi3-win_amd64.whl.metadata (593 bytes)\n",
      "Collecting proto-plus<2.0.0,>=1.22.3 (from google-api-core!=2.0.*,!=2.1.*,!=2.2.*,!=2.3.0,<3.0.0,>=1.31.5->google-api-python-client)\n",
      "  Downloading proto_plus-1.26.1-py3-none-any.whl.metadata (2.2 kB)\n",
      "Requirement already satisfied: requests<3.0.0,>=2.18.0 in d:\\python\\miniconda\\lib\\site-packages (from google-api-core!=2.0.*,!=2.1.*,!=2.2.*,!=2.3.0,<3.0.0,>=1.31.5->google-api-python-client) (2.32.3)\n",
      "Collecting cachetools<6.0,>=2.0.0 (from google-auth!=2.24.0,!=2.25.0,<3.0.0,>=1.32.0->google-api-python-client)\n",
      "  Downloading cachetools-5.5.2-py3-none-any.whl.metadata (5.4 kB)\n",
      "Collecting pyasn1-modules>=0.2.1 (from google-auth!=2.24.0,!=2.25.0,<3.0.0,>=1.32.0->google-api-python-client)\n",
      "  Downloading pyasn1_modules-0.4.2-py3-none-any.whl.metadata (3.5 kB)\n",
      "Collecting rsa<5,>=3.1.4 (from google-auth!=2.24.0,!=2.25.0,<3.0.0,>=1.32.0->google-api-python-client)\n",
      "  Using cached rsa-4.9.1-py3-none-any.whl.metadata (5.6 kB)\n",
      "Collecting pyparsing!=3.0.0,!=3.0.1,!=3.0.2,!=3.0.3,<4,>=2.4.2 (from httplib2<1.0.0,>=0.19.0->google-api-python-client)\n",
      "  Downloading pyparsing-3.2.3-py3-none-any.whl.metadata (5.0 kB)\n",
      "Requirement already satisfied: charset-normalizer<4,>=2 in d:\\python\\miniconda\\lib\\site-packages (from requests<3.0.0,>=2.18.0->google-api-core!=2.0.*,!=2.1.*,!=2.2.*,!=2.3.0,<3.0.0,>=1.31.5->google-api-python-client) (3.3.2)\n",
      "Requirement already satisfied: idna<4,>=2.5 in d:\\python\\miniconda\\lib\\site-packages (from requests<3.0.0,>=2.18.0->google-api-core!=2.0.*,!=2.1.*,!=2.2.*,!=2.3.0,<3.0.0,>=1.31.5->google-api-python-client) (3.7)\n",
      "Requirement already satisfied: urllib3<3,>=1.21.1 in d:\\python\\miniconda\\lib\\site-packages (from requests<3.0.0,>=2.18.0->google-api-core!=2.0.*,!=2.1.*,!=2.2.*,!=2.3.0,<3.0.0,>=1.31.5->google-api-python-client) (2.3.0)\n",
      "Requirement already satisfied: certifi>=2017.4.17 in d:\\python\\miniconda\\lib\\site-packages (from requests<3.0.0,>=2.18.0->google-api-core!=2.0.*,!=2.1.*,!=2.2.*,!=2.3.0,<3.0.0,>=1.31.5->google-api-python-client) (2025.4.26)\n",
      "Collecting pyasn1>=0.1.3 (from rsa<5,>=3.1.4->google-auth!=2.24.0,!=2.25.0,<3.0.0,>=1.32.0->google-api-python-client)\n",
      "  Downloading pyasn1-0.6.1-py3-none-any.whl.metadata (8.4 kB)\n",
      "Downloading google_api_python_client-2.170.0-py3-none-any.whl (13.5 MB)\n",
      "   ---------------------------------------- 0.0/13.5 MB ? eta -:--:--\n",
      "   -- ------------------------------------- 0.8/13.5 MB 4.4 MB/s eta 0:00:03\n",
      "   --------- ------------------------------ 3.1/13.5 MB 11.8 MB/s eta 0:00:01\n",
      "   ---------------- ----------------------- 5.5/13.5 MB 9.6 MB/s eta 0:00:01\n",
      "   ----------------------------- ---------- 10.0/13.5 MB 12.4 MB/s eta 0:00:01\n",
      "   ---------------------------------------  13.4/13.5 MB 13.7 MB/s eta 0:00:01\n",
      "   ---------------------------------------- 13.5/13.5 MB 12.2 MB/s eta 0:00:00\n",
      "Downloading google_api_core-2.24.2-py3-none-any.whl (160 kB)\n",
      "Downloading google_auth-2.40.2-py2.py3-none-any.whl (216 kB)\n",
      "Downloading cachetools-5.5.2-py3-none-any.whl (10 kB)\n",
      "Downloading google_auth_httplib2-0.2.0-py2.py3-none-any.whl (9.3 kB)\n",
      "Downloading googleapis_common_protos-1.70.0-py3-none-any.whl (294 kB)\n",
      "Downloading httplib2-0.22.0-py3-none-any.whl (96 kB)\n",
      "Downloading proto_plus-1.26.1-py3-none-any.whl (50 kB)\n",
      "Downloading protobuf-6.31.1-cp310-abi3-win_amd64.whl (435 kB)\n",
      "Downloading pyparsing-3.2.3-py3-none-any.whl (111 kB)\n",
      "Downloading rsa-4.9.1-py3-none-any.whl (34 kB)\n",
      "Downloading uritemplate-4.1.1-py2.py3-none-any.whl (10 kB)\n",
      "Downloading pyasn1-0.6.1-py3-none-any.whl (83 kB)\n",
      "Downloading pyasn1_modules-0.4.2-py3-none-any.whl (181 kB)\n",
      "Installing collected packages: uritemplate, pyparsing, pyasn1, protobuf, cachetools, rsa, pyasn1-modules, proto-plus, httplib2, googleapis-common-protos, google-auth, google-auth-httplib2, google-api-core, google-api-python-client\n",
      "\n",
      "   ----------------------------------------  0/14 [uritemplate]\n",
      "   -- -------------------------------------  1/14 [pyparsing]\n",
      "   -- -------------------------------------  1/14 [pyparsing]\n",
      "   -- -------------------------------------  1/14 [pyparsing]\n",
      "   -- -------------------------------------  1/14 [pyparsing]\n",
      "   ----- ----------------------------------  2/14 [pyasn1]\n",
      "   ----- ----------------------------------  2/14 [pyasn1]\n",
      "   ----- ----------------------------------  2/14 [pyasn1]\n",
      "   ----- ----------------------------------  2/14 [pyasn1]\n",
      "   ----- ----------------------------------  2/14 [pyasn1]\n",
      "   -------- -------------------------------  3/14 [protobuf]\n",
      "   -------- -------------------------------  3/14 [protobuf]\n",
      "   -------- -------------------------------  3/14 [protobuf]\n",
      "   -------- -------------------------------  3/14 [protobuf]\n",
      "   -------- -------------------------------  3/14 [protobuf]\n",
      "   -------- -------------------------------  3/14 [protobuf]\n",
      "   -------- -------------------------------  3/14 [protobuf]\n",
      "   ----------- ----------------------------  4/14 [cachetools]\n",
      "   -------------- -------------------------  5/14 [rsa]\n",
      "   -------------- -------------------------  5/14 [rsa]\n",
      "   -------------- -------------------------  5/14 [rsa]\n",
      "   -------------- -------------------------  5/14 [rsa]\n",
      "   -------------- -------------------------  5/14 [rsa]\n",
      "   ----------------- ----------------------  6/14 [pyasn1-modules]\n",
      "   ----------------- ----------------------  6/14 [pyasn1-modules]\n",
      "   ----------------- ----------------------  6/14 [pyasn1-modules]\n",
      "   ----------------- ----------------------  6/14 [pyasn1-modules]\n",
      "   ----------------- ----------------------  6/14 [pyasn1-modules]\n",
      "   ----------------- ----------------------  6/14 [pyasn1-modules]\n",
      "   ----------------- ----------------------  6/14 [pyasn1-modules]\n",
      "   ----------------- ----------------------  6/14 [pyasn1-modules]\n",
      "   ----------------- ----------------------  6/14 [pyasn1-modules]\n",
      "   -------------------- -------------------  7/14 [proto-plus]\n",
      "   -------------------- -------------------  7/14 [proto-plus]\n",
      "   -------------------- -------------------  7/14 [proto-plus]\n",
      "   ---------------------- -----------------  8/14 [httplib2]\n",
      "   ---------------------- -----------------  8/14 [httplib2]\n",
      "   ------------------------- --------------  9/14 [googleapis-common-protos]\n",
      "   ------------------------- --------------  9/14 [googleapis-common-protos]\n",
      "   ------------------------- --------------  9/14 [googleapis-common-protos]\n",
      "   ------------------------- --------------  9/14 [googleapis-common-protos]\n",
      "   ---------------------------- ----------- 10/14 [google-auth]\n",
      "   ---------------------------- ----------- 10/14 [google-auth]\n",
      "   ---------------------------- ----------- 10/14 [google-auth]\n",
      "   ---------------------------- ----------- 10/14 [google-auth]\n",
      "   ---------------------------- ----------- 10/14 [google-auth]\n",
      "   ---------------------------- ----------- 10/14 [google-auth]\n",
      "   ------------------------------- -------- 11/14 [google-auth-httplib2]\n",
      "   ---------------------------------- ----- 12/14 [google-api-core]\n",
      "   ---------------------------------- ----- 12/14 [google-api-core]\n",
      "   ---------------------------------- ----- 12/14 [google-api-core]\n",
      "   ---------------------------------- ----- 12/14 [google-api-core]\n",
      "   ---------------------------------- ----- 12/14 [google-api-core]\n",
      "   ------------------------------------- -- 13/14 [google-api-python-client]\n",
      "   ------------------------------------- -- 13/14 [google-api-python-client]\n",
      "   ------------------------------------- -- 13/14 [google-api-python-client]\n",
      "   ------------------------------------- -- 13/14 [google-api-python-client]\n",
      "   ------------------------------------- -- 13/14 [google-api-python-client]\n",
      "   ------------------------------------- -- 13/14 [google-api-python-client]\n",
      "   ------------------------------------- -- 13/14 [google-api-python-client]\n",
      "   ------------------------------------- -- 13/14 [google-api-python-client]\n",
      "   ------------------------------------- -- 13/14 [google-api-python-client]\n",
      "   ------------------------------------- -- 13/14 [google-api-python-client]\n",
      "   ------------------------------------- -- 13/14 [google-api-python-client]\n",
      "   ------------------------------------- -- 13/14 [google-api-python-client]\n",
      "   ------------------------------------- -- 13/14 [google-api-python-client]\n",
      "   ------------------------------------- -- 13/14 [google-api-python-client]\n",
      "   ------------------------------------- -- 13/14 [google-api-python-client]\n",
      "   ---------------------------------------- 14/14 [google-api-python-client]\n",
      "\n",
      "Successfully installed cachetools-5.5.2 google-api-core-2.24.2 google-api-python-client-2.170.0 google-auth-2.40.2 google-auth-httplib2-0.2.0 googleapis-common-protos-1.70.0 httplib2-0.22.0 proto-plus-1.26.1 protobuf-6.31.1 pyasn1-0.6.1 pyasn1-modules-0.4.2 pyparsing-3.2.3 rsa-4.9.1 uritemplate-4.1.1\n"
     ]
    }
   ],
   "source": [
    "!pip install python-dotenv\n",
    "!pip install google-api-python-client"
   ]
  },
  {
   "cell_type": "code",
   "execution_count": 69,
   "id": "5a9f1695",
   "metadata": {},
   "outputs": [
    {
     "ename": "ModuleNotFoundError",
     "evalue": "No module named 'pandas'",
     "output_type": "error",
     "traceback": [
      "\u001b[31m---------------------------------------------------------------------------\u001b[39m",
      "\u001b[31mModuleNotFoundError\u001b[39m                       Traceback (most recent call last)",
      "\u001b[36mCell\u001b[39m\u001b[36m \u001b[39m\u001b[32mIn[69]\u001b[39m\u001b[32m, line 3\u001b[39m\n\u001b[32m      1\u001b[39m \u001b[38;5;66;03m# Imports\u001b[39;00m\n\u001b[32m      2\u001b[39m \u001b[38;5;28;01mimport\u001b[39;00m\u001b[38;5;250m \u001b[39m\u001b[34;01mos\u001b[39;00m\n\u001b[32m----> \u001b[39m\u001b[32m3\u001b[39m \u001b[38;5;28;01mimport\u001b[39;00m\u001b[38;5;250m \u001b[39m\u001b[34;01mpandas\u001b[39;00m\u001b[38;5;250m \u001b[39m\u001b[38;5;28;01mas\u001b[39;00m\u001b[38;5;250m \u001b[39m\u001b[34;01mpd\u001b[39;00m\n\u001b[32m      4\u001b[39m \u001b[38;5;28;01mfrom\u001b[39;00m\u001b[38;5;250m \u001b[39m\u001b[34;01mdotenv\u001b[39;00m\u001b[38;5;250m \u001b[39m\u001b[38;5;28;01mimport\u001b[39;00m load_dotenv\n\u001b[32m      5\u001b[39m \u001b[38;5;28;01mfrom\u001b[39;00m\u001b[38;5;250m \u001b[39m\u001b[34;01mgoogleapiclient\u001b[39;00m\u001b[34;01m.\u001b[39;00m\u001b[34;01mdiscovery\u001b[39;00m\u001b[38;5;250m \u001b[39m\u001b[38;5;28;01mimport\u001b[39;00m build\n",
      "\u001b[31mModuleNotFoundError\u001b[39m: No module named 'pandas'"
     ]
    }
   ],
   "source": [
    "# Imports\n",
    "import os\n",
    "import pandas as pd\n",
    "from dotenv import load_dotenv\n",
    "from googleapiclient.discovery import build"
   ]
  },
  {
   "cell_type": "code",
   "execution_count": 58,
   "id": "040f55e8",
   "metadata": {},
   "outputs": [],
   "source": [
    "# Load environment variables\n",
    "load_dotenv()\n",
    "key = os.getenv(\"API_KEY\")"
   ]
  },
  {
   "cell_type": "code",
   "execution_count": 59,
   "id": "13358fc2",
   "metadata": {},
   "outputs": [],
   "source": [
    "# Construir objeto Youtube\n",
    "youtube = build('youtube', 'v3', developerKey=key)"
   ]
  },
  {
   "cell_type": "code",
   "execution_count": 60,
   "id": "486574e2",
   "metadata": {},
   "outputs": [],
   "source": [
    "# Conseguir Channel ID\n",
    "request_id = youtube.search().list(\n",
    "    part='snippet',\n",
    "    q='Skyshock',\n",
    "    type='channel',\n",
    "    maxResults=1\n",
    ")\n",
    "response_id = request_id.execute()\n",
    "skyshock_id = response_id['items'][0]['id']['channelId']"
   ]
  },
  {
   "cell_type": "code",
   "execution_count": 61,
   "id": "034f258c",
   "metadata": {},
   "outputs": [],
   "source": [
    "# Buscar URLs\n",
    "request_uploads = youtube.search().list(\n",
    "    part='snippet',\n",
    "    channelId=skyshock_id,\n",
    "    maxResults=5,\n",
    "    order='date',\n",
    "    type='video'\n",
    ")\n",
    "results_uploads = request_uploads.execute()"
   ]
  },
  {
   "cell_type": "code",
   "execution_count": 62,
   "id": "2eec76c2",
   "metadata": {},
   "outputs": [],
   "source": [
    "# Lista para almacenar comentarios\n",
    "comments_data = []"
   ]
  },
  {
   "cell_type": "code",
   "execution_count": 63,
   "id": "20a9a4d9",
   "metadata": {},
   "outputs": [],
   "source": [
    "# Extraer comentarios de cada video\n",
    "for item in results_uploads['items']:\n",
    "    video_id = item['id']['videoId']\n",
    "    video_title = item['snippet']['title']\n",
    "    \n",
    "    request_comments = youtube.commentThreads().list(\n",
    "        part='snippet',\n",
    "        videoId=video_id,\n",
    "        maxResults=100,  # Extrae hasta 100 comentarios\n",
    "        textFormat='plainText'\n",
    "    )\n",
    "\n",
    "response_comments = request_comments.execute()"
   ]
  },
  {
   "cell_type": "code",
   "execution_count": 64,
   "id": "f67a714e",
   "metadata": {},
   "outputs": [],
   "source": [
    "for comment_item in response_comments.get('items', []):\n",
    "        comment_id = comment_item['snippet']['topLevelComment']['id']\n",
    "        text = comment_item['snippet']['topLevelComment']['snippet']['textDisplay']\n",
    "        \n",
    "        comments_data.append({\n",
    "            \"comment_id\": comment_id,\n",
    "            \"text\": text,\n",
    "            \"video_id\": video_id,\n",
    "            \"video_title\": video_title\n",
    "        })"
   ]
  },
  {
   "cell_type": "code",
   "execution_count": 65,
   "id": "33a1224e",
   "metadata": {},
   "outputs": [
    {
     "ename": "NameError",
     "evalue": "name 'pd' is not defined",
     "output_type": "error",
     "traceback": [
      "\u001b[31m---------------------------------------------------------------------------\u001b[39m",
      "\u001b[31mNameError\u001b[39m                                 Traceback (most recent call last)",
      "\u001b[36mCell\u001b[39m\u001b[36m \u001b[39m\u001b[32mIn[65]\u001b[39m\u001b[32m, line 2\u001b[39m\n\u001b[32m      1\u001b[39m \u001b[38;5;66;03m# Convertir a DataFrame\u001b[39;00m\n\u001b[32m----> \u001b[39m\u001b[32m2\u001b[39m df = \u001b[43mpd\u001b[49m.DataFrame(comments_data)\n",
      "\u001b[31mNameError\u001b[39m: name 'pd' is not defined"
     ]
    }
   ],
   "source": [
    "# Convertir a DataFrame\n",
    "df = pd.DataFrame(comments_data)"
   ]
  },
  {
   "cell_type": "code",
   "execution_count": null,
   "id": "539caa1e",
   "metadata": {},
   "outputs": [
    {
     "data": {
      "text/plain": [
       "10"
      ]
     },
     "execution_count": 54,
     "metadata": {},
     "output_type": "execute_result"
    }
   ],
   "source": [
    "# Guardar como CSV\n",
    "df.to_csv(\"data/dataset.csv\", index=False)"
   ]
  }
 ],
 "metadata": {
  "kernelspec": {
   "display_name": "base",
   "language": "python",
   "name": "python3"
  },
  "language_info": {
   "codemirror_mode": {
    "name": "ipython",
    "version": 3
   },
   "file_extension": ".py",
   "mimetype": "text/x-python",
   "name": "python",
   "nbconvert_exporter": "python",
   "pygments_lexer": "ipython3",
   "version": "3.13.2"
  }
 },
 "nbformat": 4,
 "nbformat_minor": 5
}
